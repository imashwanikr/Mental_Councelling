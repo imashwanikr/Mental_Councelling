{
 "cells": [
  {
   "cell_type": "code",
   "execution_count": 4,
   "metadata": {},
   "outputs": [],
   "source": [
    "class Node(object):\n",
    "    def __init__(self, name, weight = None):\n",
    "        self.name = name\n",
    "        #self.value = value\n",
    "        self.weight = weight\n",
    "        self.children = []\n",
    "    def add_child(self, obj):\n",
    "        self.children.append(obj)\n",
    "        "
   ]
  },
  {
   "cell_type": "code",
   "execution_count": 5,
   "metadata": {},
   "outputs": [],
   "source": [
    "Sleep = Node(\"Sleep\")\n"
   ]
  },
  {
   "cell_type": "code",
   "execution_count": 16,
   "metadata": {},
   "outputs": [],
   "source": [
    "Suicidal_1 = Node(\"Suicidal\",\"less_sleep\")\n",
    "Weight = Node(\"Weight\",\"irregular\")\n",
    "Suicidal_2 = Node(\"Suicidal\",\"no_sleep\")\n",
    "SEASONAL_DEPRESSION = Node(\"SEASONAL_DEPRESSION\",\"more_sleep\")\n"
   ]
  },
  {
   "cell_type": "code",
   "execution_count": 7,
   "metadata": {},
   "outputs": [],
   "source": [
    "MANIC_PHASE = Node(\"MANIC_PHASE\",\"yes\")\n",
    "SITUATIONAL_DEPRESSION = Node(\"SITUATIONAL_DEPRESSION\",\"no\")\n"
   ]
  },
  {
   "cell_type": "code",
   "execution_count": 8,
   "metadata": {},
   "outputs": [],
   "source": [
    "PERINATAL_DEPRESSION = Node(\"PERINATAL_DEPRESSION\",\"yes\")\n",
    "hallucination = Node(\"hallucination\",\"no\")\n",
    "PSYCHOSIS_DEPRESSION = Node(\"PSYCHOSIS_DEPRESSION\",\"yes\")\n"
   ]
  },
  {
   "cell_type": "code",
   "execution_count": 9,
   "metadata": {},
   "outputs": [],
   "source": [
    "hopelessness = Node(\"hopelessness\",\"yes\")\n",
    "DEPRESSIVE_EPISODES = Node(\"DEPRESSIVE_EPISODES\",\"no\")\n"
   ]
  },
  {
   "cell_type": "code",
   "execution_count": 10,
   "metadata": {},
   "outputs": [],
   "source": [
    "TYPICAL_DEPRESSION = Node(\"TYPICAL_DEPRESSION\",\"no\")\n",
    "anxiety = Node(\"anxiety\",\"yes\")\n"
   ]
  },
  {
   "cell_type": "code",
   "execution_count": 11,
   "metadata": {},
   "outputs": [],
   "source": [
    "Trouble_focusing = Node(\"Trouble_focusing\",\"no\")\n",
    "PMDD = Node(\"PMDD\",\"yes\")\n"
   ]
  },
  {
   "cell_type": "code",
   "execution_count": 12,
   "metadata": {},
   "outputs": [],
   "source": [
    "loss_of_interest = Node(\"loss_of_interest\",\"yes\")\n"
   ]
  },
  {
   "cell_type": "code",
   "execution_count": 13,
   "metadata": {},
   "outputs": [],
   "source": [
    "fatigue = Node(\"fatigue\",\"yes\")\n"
   ]
  },
  {
   "cell_type": "code",
   "execution_count": 14,
   "metadata": {},
   "outputs": [],
   "source": [
    "social_withdrawl = Node(\"social_withdrawl\",\"no\")\n",
    "suicidal = Node(\"suicidal\",\"yes\")\n"
   ]
  },
  {
   "cell_type": "code",
   "execution_count": 15,
   "metadata": {},
   "outputs": [],
   "source": [
    "PERSISTENT_DEPRESSION = Node(\"PERSISTENT_DEPRESSION\",\"yes\")\n",
    "MAJOR_DEPRESSION = Node(\"MAJOR_DEPRESSION\",\"yes\")\n"
   ]
  },
  {
   "cell_type": "code",
   "execution_count": 18,
   "metadata": {},
   "outputs": [],
   "source": [
    "Sleep.children.append(Suicidal_1)\n",
    "Sleep.children.append(Weight)\n",
    "Sleep.children.append(Suicidal_2)\n",
    "Sleep.children.append(SEASONAL_DEPRESSION)\n"
   ]
  },
  {
   "cell_type": "code",
   "execution_count": 19,
   "metadata": {},
   "outputs": [],
   "source": [
    "Suicidal_1.children.append(MANIC_PHASE)\n",
    "Suicidal_1.children.append(SITUATIONAL_DEPRESSION)\n"
   ]
  },
  {
   "cell_type": "code",
   "execution_count": 20,
   "metadata": {},
   "outputs": [],
   "source": [
    "Weight.children.append(hopelessness)\n",
    "Weight.children.append(DEPRESSIVE_EPISODES)\n"
   ]
  },
  {
   "cell_type": "code",
   "execution_count": 21,
   "metadata": {},
   "outputs": [],
   "source": [
    "hopelessness.children.append(TYPICAL_DEPRESSION)\n",
    "hopelessness.children.append(anxiety)\n"
   ]
  },
  {
   "cell_type": "code",
   "execution_count": 22,
   "metadata": {},
   "outputs": [],
   "source": [
    "anxiety.children.append(Trouble_focusing)\n",
    "anxiety.children.append(PMDD)\n"
   ]
  },
  {
   "cell_type": "code",
   "execution_count": 24,
   "metadata": {},
   "outputs": [],
   "source": [
    "Trouble_focusing.children.append(loss_of_interest)\n"
   ]
  },
  {
   "cell_type": "code",
   "execution_count": 26,
   "metadata": {},
   "outputs": [],
   "source": [
    "loss_of_interest.children.append(fatigue)\n"
   ]
  },
  {
   "cell_type": "code",
   "execution_count": 27,
   "metadata": {},
   "outputs": [],
   "source": [
    "fatigue.children.append(social_withdrawl)\n",
    "fatigue.children.append(suicidal)\n"
   ]
  },
  {
   "cell_type": "code",
   "execution_count": 28,
   "metadata": {},
   "outputs": [],
   "source": [
    "social_withdrawl.children.append(PERSISTENT_DEPRESSION)\n"
   ]
  },
  {
   "cell_type": "code",
   "execution_count": 29,
   "metadata": {},
   "outputs": [],
   "source": [
    "suicidal.children.append(MAJOR_DEPRESSION)\n"
   ]
  },
  {
   "cell_type": "code",
   "execution_count": 30,
   "metadata": {},
   "outputs": [],
   "source": [
    "Suicidal_2.children.append(PERINATAL_DEPRESSION)\n",
    "Suicidal_2.children.append(hallucination)\n"
   ]
  },
  {
   "cell_type": "code",
   "execution_count": 31,
   "metadata": {},
   "outputs": [],
   "source": [
    "hallucination.children.append(PSYCHOSIS_DEPRESSION)\n"
   ]
  },
  {
   "cell_type": "code",
   "execution_count": 38,
   "metadata": {},
   "outputs": [
    {
     "name": "stdout",
     "output_type": "stream",
     "text": [
      "Weight\n"
     ]
    }
   ],
   "source": [
    "print(Sleep.children[1].name)\n",
    "    "
   ]
  },
  {
   "cell_type": "code",
   "execution_count": 44,
   "metadata": {},
   "outputs": [
    {
     "name": "stdout",
     "output_type": "stream",
     "text": [
      "Do you have Sleep Issues??Please Select from the options below\n",
      "less_sleep\n",
      "irregular\n",
      "no_sleep\n",
      "more_sleep\n",
      "less_sleep\n"
     ]
    }
   ],
   "source": [
    "print(\"Do you have Sleep Issues??Please Select from the options below\")\n",
    "for i in range(0,len(Sleep.children)):\n",
    "    print(Sleep.children[i].weight)\n",
    "answer = input()\n",
    "#print(answer)"
   ]
  },
  {
   "cell_type": "code",
   "execution_count": 49,
   "metadata": {},
   "outputs": [],
   "source": [
    "root = Sleep"
   ]
  },
  {
   "cell_type": "code",
   "execution_count": 50,
   "metadata": {},
   "outputs": [
    {
     "name": "stdout",
     "output_type": "stream",
     "text": [
      "Do you have Sleep ??Please Select from the options below\n",
      "less_sleep\n",
      "irregular\n",
      "no_sleep\n",
      "more_sleep\n",
      "irregular\n",
      "Do you have Weight ??Please Select from the options below\n",
      "yes\n",
      "no\n",
      "yes\n",
      "Do you have hopelessness ??Please Select from the options below\n",
      "no\n",
      "yes\n",
      "yes\n",
      "Do you have anxiety ??Please Select from the options below\n",
      "no\n",
      "yes\n",
      "no\n",
      "Do you have Trouble_focusing ??Please Select from the options below\n",
      "yes\n",
      "yes\n",
      "Do you have loss_of_interest ??Please Select from the options below\n",
      "yes\n",
      "yes\n",
      "Do you have fatigue ??Please Select from the options below\n",
      "no\n",
      "yes\n",
      "no\n",
      "Do you have social_withdrawl ??Please Select from the options below\n",
      "yes\n",
      "yes\n",
      "You have PERSISTENT_DEPRESSION .\n"
     ]
    }
   ],
   "source": [
    "while(len(root.children)!=0):\n",
    "    k=0\n",
    "    print(\"Do you have \"+root.name+\" ??Please Select from the options below\")\n",
    "    for i in range(0,len(root.children)):\n",
    "        print(root.children[i].weight)\n",
    "    answer = input()\n",
    "    for i in range(0,len(root.children)):\n",
    "        if root.children[i].weight == answer:\n",
    "            k=i\n",
    "    root = root.children[k]\n",
    "print(\"You have \"+ root.name + \" .\")"
   ]
  },
  {
   "cell_type": "code",
   "execution_count": null,
   "metadata": {},
   "outputs": [],
   "source": []
  }
 ],
 "metadata": {
  "kernelspec": {
   "display_name": "Python 3",
   "language": "python",
   "name": "python3"
  },
  "language_info": {
   "codemirror_mode": {
    "name": "ipython",
    "version": 3
   },
   "file_extension": ".py",
   "mimetype": "text/x-python",
   "name": "python",
   "nbconvert_exporter": "python",
   "pygments_lexer": "ipython3",
   "version": "3.7.3"
  }
 },
 "nbformat": 4,
 "nbformat_minor": 4
}
