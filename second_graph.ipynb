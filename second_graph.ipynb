{
 "cells": [
  {
   "cell_type": "code",
   "execution_count": 49,
   "metadata": {},
   "outputs": [],
   "source": [
    "class Symptoms(object):\n",
    "    def __init__(self, name = None, weight = None):\n",
    "        self.name = name\n",
    "        self.value = \"Symptoms\"\n",
    "        self.weight = weight\n",
    "        self.count = 0\n",
    "        self.cover = False\n",
    "        self.children = []        "
   ]
  },
  {
   "cell_type": "code",
   "execution_count": 50,
   "metadata": {},
   "outputs": [],
   "source": [
    "class Disorder(object):\n",
    "    def __init__(self, name = None, weight = None):\n",
    "        self.name = name\n",
    "        self.value = \"Disorder\"\n",
    "        self.weight = weight\n",
    "        self.children = []        "
   ]
  },
  {
   "cell_type": "code",
   "execution_count": 51,
   "metadata": {},
   "outputs": [],
   "source": [
    "disorders = {'TYPICAL_DEPRESSION' : [\"increased appetite\",\"weight gain\",\"disordered eating\",\"poor body image\",\"sleep problem\",\"insomnia\",\"heaviness in your arms or legs that lasts an hour or more a day\",\"feelings of rejection\",\"sensitivity to criticism\",\"aches and pains\"]\n",
    "             ,'SITUATIONAL_DEPRESSION':[\"frequent crying\",\"sadness\",\"hopelessness\",\"anxiety\",\"appetite changes\",\"sleep problem\",\"aches and pains\",\"lack of energy\",\"fatigue\",\"inability to concentrate\",\"social withdrawal\"]\n",
    "             ,'SEASONAL_DEPRESSION':[\"social withdrawal\",\"sleep problem\",\"weight gain\",\"fatigue\" ,\"sadness\",\"hopelessness\",\"unworthiness\"]\n",
    "             ,'PMDD':[\"cramps\",\"bloating\",\"breast tenderness\",\"headaches\",\"aches and pains\",\"sadness\",\"despair\",\"irritability\",\"anger\",\"extreme mood swings\",\"food cravings\",\"binge eating\",\"panic attacks\",\"anxiety\",\"lack of energy\",\"trouble focusing\",\"sleep problem\"]\n",
    "             ,'PERINATAL_DEPRESSION':[\"sadness\",\"anxiety\",\"anger\",\"rage\",\"exhaustion\",\"extreme worry about the baby‘s health and safety\",\"difficulty caring for yourself or the new baby\",\"thoughts of self-harm\",\"harming the baby\" ]\n",
    "             ,'PSYCHOSIS_DEPRESSION' : [\"physical symptoms\",\"including problems sitting still or slowed physical movements\",\"hallucinations\" ]\n",
    "             ,'DEPRESSIVE_EPISODES' : [\"sadness\",\"emptiness\",\"lack of energy\",\"fatigue\",\"sleep problem\",\"trouble concentrating\",\"decreased activity\",\"loss of interest\",\"suicidal thoughts\",\"headaches\",\"stomach aches\",\"aches and pains\" ]\n",
    "             ,'MANIC_PHASE' : [\"high energy\",\"sleep problem\",\"irritability\",\"racing thoughts and speech\",\"grandiose thinking\",\"increased self-esteem and confidence\",\"unusual, risky, and self-destructive behavior\",\"feeling elated, high\",\"euphoric\" ]\n",
    "             ,'PERSISTENT_DEPRESSION' : [\"sadness\",\"hopelessness\",\"low self-esteem\",\"feelings of inadequacy\",\"lack of interest\",\"appetite changes\",\"sleeping problem\",\"low energy\",\"concentration and memory problems\",\"difficulty functioning at school or work\",\"inability to feel joy\",\"social withdrawal\"]\n",
    "             ,'MAJOR_DEPRESSION' : [\"despondency\",\"gloom\",\"grief\",\"sleep problem\",\"lack of energy\",\"fatigue\",\"loss of appetite\", \"overeating\",\"aches and pains\",\"loss of interest\",\"lack of concentration\",\"memory problems\",\"inability to make decisions\",\"worthlessness\",\"hopelessness\",\"constant worry and anxiety\",\"thoughts of self-harm\" ] \n",
    "            }"
   ]
  },
  {
   "cell_type": "code",
   "execution_count": 52,
   "metadata": {},
   "outputs": [],
   "source": [
    "imp_symptoms = {'TYPICAL_DEPRESSION':[\"increased appetite and weight gain\",\"heaviness in your arms or legs that lasts an hour or more a day\",\"feelings of rejection and sensitivity to criticism\"],\n",
    "               'SITUATIONAL_DEPRESSION':[\"frequent crying\",\"appetite changes\"],\n",
    "               'SEASONAL_DEPRESSION':[\"weight gain\",\"fatigue\"],\n",
    "               'PMDD':[\"cramps, bloating, and breast tenderness\",\"irritability and anger\",\"extreme mood swings\",\"panic attacks or anxiety\"],\n",
    "               'PERINATAL_DEPRESSION':[\"extreme worry about the baby‘s health and safety\",\"thoughts of self-harm or harming the baby\"],\n",
    "               'PSYCHOSIS_DEPRESSION':[\"Hallucinations\"],\n",
    "               'DEPRESSIVE_EPISODES':[\"feelings of sadness or emptiness\",\"loss of interest in formerly enjoyable activities\",\"unexplained headaches, stomach aches, or other aches and pains\"],\n",
    "               'MANIC_PHASE':[\"racing thoughts and speech\",\"unusual, risky, and self-destructive behavior\",\"feeling elated, “high,” or euphoric\"],\n",
    "               'PERSISTENT_DEPRESSION':[\"low self-esteem or feelings of inadequacy\",\"inability to feel joy, even at happy occasions\",\"social withdrawal\"],\n",
    "               'MAJOR_DEPRESSION':[\"despondency, gloom, or grief\",\"unexplained aches and pains\",\"feelings of worthlessness or hopelessness\",\"constant worry and anxiety\"]\n",
    "               }"
   ]
  },
  {
   "cell_type": "code",
   "execution_count": 53,
   "metadata": {},
   "outputs": [],
   "source": [
    "symptoms_all_old = []\n",
    "symptoms_all = []\n",
    "for i in disorders:\n",
    "    for j in disorders[i]:\n",
    "        symptoms_all_old.append(j)\n",
    "symptoms_all = set(symptoms_all_old)        "
   ]
  },
  {
   "cell_type": "code",
   "execution_count": 54,
   "metadata": {},
   "outputs": [
    {
     "name": "stdout",
     "output_type": "stream",
     "text": [
      "107 72\n"
     ]
    }
   ],
   "source": [
    "print(str(len(symptoms_all_old))+\" \"+str(len(symptoms_all)))"
   ]
  },
  {
   "cell_type": "code",
   "execution_count": 55,
   "metadata": {},
   "outputs": [],
   "source": [
    "from collections import Counter \n",
    "d = Counter(symptoms_all_old)"
   ]
  },
  {
   "cell_type": "code",
   "execution_count": 56,
   "metadata": {},
   "outputs": [
    {
     "data": {
      "text/plain": [
       "Counter({'increased appetite': 1,\n",
       "         'weight gain': 2,\n",
       "         'disordered eating': 1,\n",
       "         'poor body image': 1,\n",
       "         'sleep problem': 7,\n",
       "         'insomnia': 1,\n",
       "         'heaviness in your arms or legs that lasts an hour or more a day': 1,\n",
       "         'feelings of rejection': 1,\n",
       "         'sensitivity to criticism': 1,\n",
       "         'aches and pains': 5,\n",
       "         'frequent crying': 1,\n",
       "         'sadness': 6,\n",
       "         'hopelessness': 4,\n",
       "         'anxiety': 3,\n",
       "         'appetite changes': 2,\n",
       "         'lack of energy': 4,\n",
       "         'fatigue': 4,\n",
       "         'inability to concentrate': 1,\n",
       "         'social withdrawal': 3,\n",
       "         'unworthiness': 1,\n",
       "         'cramps': 1,\n",
       "         'bloating': 1,\n",
       "         'breast tenderness': 1,\n",
       "         'headaches': 2,\n",
       "         'despair': 1,\n",
       "         'irritability': 2,\n",
       "         'anger': 2,\n",
       "         'extreme mood swings': 1,\n",
       "         'food cravings': 1,\n",
       "         'binge eating': 1,\n",
       "         'panic attacks': 1,\n",
       "         'trouble focusing': 1,\n",
       "         'rage': 1,\n",
       "         'exhaustion': 1,\n",
       "         'extreme worry about the baby‘s health and safety': 1,\n",
       "         'difficulty caring for yourself or the new baby': 1,\n",
       "         'thoughts of self-harm': 2,\n",
       "         'harming the baby': 1,\n",
       "         'physical symptoms': 1,\n",
       "         'including problems sitting still or slowed physical movements': 1,\n",
       "         'hallucinations': 1,\n",
       "         'emptiness': 1,\n",
       "         'trouble concentrating': 1,\n",
       "         'decreased activity': 1,\n",
       "         'loss of interest': 2,\n",
       "         'suicidal thoughts': 1,\n",
       "         'stomach aches': 1,\n",
       "         'high energy': 1,\n",
       "         'racing thoughts and speech': 1,\n",
       "         'grandiose thinking': 1,\n",
       "         'increased self-esteem and confidence': 1,\n",
       "         'unusual, risky, and self-destructive behavior': 1,\n",
       "         'feeling elated, high': 1,\n",
       "         'euphoric': 1,\n",
       "         'low self-esteem': 1,\n",
       "         'feelings of inadequacy': 1,\n",
       "         'lack of interest': 1,\n",
       "         'sleeping problem': 1,\n",
       "         'low energy': 1,\n",
       "         'concentration and memory problems': 1,\n",
       "         'difficulty functioning at school or work': 1,\n",
       "         'inability to feel joy': 1,\n",
       "         'despondency': 1,\n",
       "         'gloom': 1,\n",
       "         'grief': 1,\n",
       "         'loss of appetite': 1,\n",
       "         'overeating': 1,\n",
       "         'lack of concentration': 1,\n",
       "         'memory problems': 1,\n",
       "         'inability to make decisions': 1,\n",
       "         'worthlessness': 1,\n",
       "         'constant worry and anxiety': 1})"
      ]
     },
     "execution_count": 56,
     "metadata": {},
     "output_type": "execute_result"
    }
   ],
   "source": [
    "d"
   ]
  },
  {
   "cell_type": "code",
   "execution_count": 57,
   "metadata": {},
   "outputs": [
    {
     "data": {
      "text/plain": [
       "{'increased appetite': 1,\n",
       " 'disordered eating': 1,\n",
       " 'poor body image': 1,\n",
       " 'insomnia': 1,\n",
       " 'heaviness in your arms or legs that lasts an hour or more a day': 1,\n",
       " 'feelings of rejection': 1,\n",
       " 'sensitivity to criticism': 1,\n",
       " 'frequent crying': 1,\n",
       " 'inability to concentrate': 1,\n",
       " 'unworthiness': 1,\n",
       " 'cramps': 1,\n",
       " 'bloating': 1,\n",
       " 'breast tenderness': 1,\n",
       " 'despair': 1,\n",
       " 'extreme mood swings': 1,\n",
       " 'food cravings': 1,\n",
       " 'binge eating': 1,\n",
       " 'panic attacks': 1,\n",
       " 'trouble focusing': 1,\n",
       " 'rage': 1,\n",
       " 'exhaustion': 1,\n",
       " 'extreme worry about the baby‘s health and safety': 1,\n",
       " 'difficulty caring for yourself or the new baby': 1,\n",
       " 'harming the baby': 1,\n",
       " 'physical symptoms': 1,\n",
       " 'including problems sitting still or slowed physical movements': 1,\n",
       " 'hallucinations': 1,\n",
       " 'emptiness': 1,\n",
       " 'trouble concentrating': 1,\n",
       " 'decreased activity': 1,\n",
       " 'suicidal thoughts': 1,\n",
       " 'stomach aches': 1,\n",
       " 'high energy': 1,\n",
       " 'racing thoughts and speech': 1,\n",
       " 'grandiose thinking': 1,\n",
       " 'increased self-esteem and confidence': 1,\n",
       " 'unusual, risky, and self-destructive behavior': 1,\n",
       " 'feeling elated, high': 1,\n",
       " 'euphoric': 1,\n",
       " 'low self-esteem': 1,\n",
       " 'feelings of inadequacy': 1,\n",
       " 'lack of interest': 1,\n",
       " 'sleeping problem': 1,\n",
       " 'low energy': 1,\n",
       " 'concentration and memory problems': 1,\n",
       " 'difficulty functioning at school or work': 1,\n",
       " 'inability to feel joy': 1,\n",
       " 'despondency': 1,\n",
       " 'gloom': 1,\n",
       " 'grief': 1,\n",
       " 'loss of appetite': 1,\n",
       " 'overeating': 1,\n",
       " 'lack of concentration': 1,\n",
       " 'memory problems': 1,\n",
       " 'inability to make decisions': 1,\n",
       " 'worthlessness': 1,\n",
       " 'constant worry and anxiety': 1,\n",
       " 'weight gain': 2,\n",
       " 'appetite changes': 2,\n",
       " 'headaches': 2,\n",
       " 'irritability': 2,\n",
       " 'anger': 2,\n",
       " 'thoughts of self-harm': 2,\n",
       " 'loss of interest': 2,\n",
       " 'anxiety': 3,\n",
       " 'social withdrawal': 3,\n",
       " 'hopelessness': 4,\n",
       " 'lack of energy': 4,\n",
       " 'fatigue': 4,\n",
       " 'aches and pains': 5,\n",
       " 'sadness': 6,\n",
       " 'sleep problem': 7}"
      ]
     },
     "execution_count": 57,
     "metadata": {},
     "output_type": "execute_result"
    }
   ],
   "source": [
    "{k: v for k, v in sorted(d.items(), key=lambda item: item[1])}"
   ]
  },
  {
   "cell_type": "code",
   "execution_count": 58,
   "metadata": {},
   "outputs": [],
   "source": [
    "#symptoms_all"
   ]
  },
  {
   "cell_type": "code",
   "execution_count": 59,
   "metadata": {},
   "outputs": [],
   "source": [
    "max_ = 0"
   ]
  },
  {
   "cell_type": "code",
   "execution_count": 60,
   "metadata": {},
   "outputs": [],
   "source": [
    "objects = [Symptoms() for i in range(len(symptoms_all))]\n",
    "for count_,i in enumerate(symptoms_all):\n",
    "    objects[count_].name = i\n",
    "    objects[count_].count=d[i]\n",
    "    if max_< d[i]:\n",
    "        max_ = d[i]"
   ]
  },
  {
   "cell_type": "code",
   "execution_count": 61,
   "metadata": {},
   "outputs": [
    {
     "data": {
      "text/plain": [
       "7"
      ]
     },
     "execution_count": 61,
     "metadata": {},
     "output_type": "execute_result"
    }
   ],
   "source": [
    "occurence = max_\n",
    "occurence"
   ]
  },
  {
   "cell_type": "code",
   "execution_count": 62,
   "metadata": {},
   "outputs": [],
   "source": [
    "#for i in objects:\n",
    " #   print(i.count)"
   ]
  },
  {
   "cell_type": "code",
   "execution_count": 63,
   "metadata": {},
   "outputs": [
    {
     "name": "stdout",
     "output_type": "stream",
     "text": [
      "Do you have sleep problem ?\n",
      "yes\n",
      "Do you have sadness ?\n",
      "no\n",
      "Do you have aches and pains ?\n",
      "yes\n",
      "Do you have hopelessness ?\n",
      "no\n",
      "Do you have fatigue ?\n",
      "yes\n",
      "Do you have lack of energy ?\n",
      "no\n",
      "Do you have anxiety ?\n",
      "yes\n",
      "Do you have social withdrawal ?\n",
      "no\n",
      "Do you have appetite changes ?\n",
      "yes\n",
      "Do you have irritability ?\n",
      "no\n",
      "Do you have weight gain ?\n",
      "yes\n",
      "Do you have anger ?\n",
      "no\n",
      "Do you have thoughts of self-harm ?\n",
      "yes\n",
      "Do you have headaches ?\n",
      "no\n",
      "Do you have loss of interest ?\n",
      "yes\n"
     ]
    }
   ],
   "source": [
    "occurence = max_\n",
    "symptoms_cover = []\n",
    "while occurence>1:\n",
    "    #print(\"Please Enter yes or no\")\n",
    "    for i in objects:\n",
    "        #print(i.count)\n",
    "        if i.count == occurence and i.cover == False:\n",
    "            i.cover = True\n",
    "            print(\"Do you have \"+i.name+\" ?\")\n",
    "            x = input()\n",
    "            if x == \"yes\":\n",
    "                symptoms_cover.append(i.name)\n",
    "    occurence = occurence - 1"
   ]
  },
  {
   "cell_type": "code",
   "execution_count": 64,
   "metadata": {},
   "outputs": [
    {
     "data": {
      "text/plain": [
       "['sleep problem',\n",
       " 'aches and pains',\n",
       " 'fatigue',\n",
       " 'anxiety',\n",
       " 'appetite changes',\n",
       " 'weight gain',\n",
       " 'thoughts of self-harm',\n",
       " 'loss of interest']"
      ]
     },
     "execution_count": 64,
     "metadata": {},
     "output_type": "execute_result"
    }
   ],
   "source": [
    "symptoms_cover"
   ]
  },
  {
   "cell_type": "code",
   "execution_count": 65,
   "metadata": {},
   "outputs": [],
   "source": [
    "disorder_all = ['TYPICAL_DEPRESSION','SITUATIONAL_DEPRESSION','SEASONAL_DEPRESSION','PMDD','PERINATAL_DEPRESSION','PSYCHOSIS_DEPRESSION','DEPRESSIVE_EPISODES','MANIC_PHASE','PERSISTENT_DEPRESSION','MAJOR_DEPRESSION']"
   ]
  },
  {
   "cell_type": "code",
   "execution_count": 66,
   "metadata": {},
   "outputs": [],
   "source": [
    "disorder_all_check = {}\n",
    "for i in disorder_all:\n",
    "    #print(i)\n",
    "    disorder_all_check[i] = []"
   ]
  },
  {
   "cell_type": "code",
   "execution_count": 67,
   "metadata": {},
   "outputs": [
    {
     "data": {
      "text/plain": [
       "{'TYPICAL_DEPRESSION': [],\n",
       " 'SITUATIONAL_DEPRESSION': [],\n",
       " 'SEASONAL_DEPRESSION': [],\n",
       " 'PMDD': [],\n",
       " 'PERINATAL_DEPRESSION': [],\n",
       " 'PSYCHOSIS_DEPRESSION': [],\n",
       " 'DEPRESSIVE_EPISODES': [],\n",
       " 'MANIC_PHASE': [],\n",
       " 'PERSISTENT_DEPRESSION': [],\n",
       " 'MAJOR_DEPRESSION': []}"
      ]
     },
     "execution_count": 67,
     "metadata": {},
     "output_type": "execute_result"
    }
   ],
   "source": [
    "disorder_all_check"
   ]
  },
  {
   "cell_type": "code",
   "execution_count": 68,
   "metadata": {},
   "outputs": [],
   "source": [
    "for i in symptoms_cover:\n",
    "    for j in disorders:\n",
    "        for k in disorders[j]:\n",
    "            #print(k)\n",
    "            if i == k:\n",
    "                disorder_all_check[j].append(i)"
   ]
  },
  {
   "cell_type": "code",
   "execution_count": 69,
   "metadata": {},
   "outputs": [
    {
     "data": {
      "text/plain": [
       "{'TYPICAL_DEPRESSION': ['sleep problem', 'aches and pains', 'weight gain'],\n",
       " 'SITUATIONAL_DEPRESSION': ['sleep problem',\n",
       "  'aches and pains',\n",
       "  'fatigue',\n",
       "  'anxiety',\n",
       "  'appetite changes'],\n",
       " 'SEASONAL_DEPRESSION': ['sleep problem', 'fatigue', 'weight gain'],\n",
       " 'PMDD': ['sleep problem', 'aches and pains', 'anxiety'],\n",
       " 'PERINATAL_DEPRESSION': ['anxiety', 'thoughts of self-harm'],\n",
       " 'PSYCHOSIS_DEPRESSION': [],\n",
       " 'DEPRESSIVE_EPISODES': ['sleep problem',\n",
       "  'aches and pains',\n",
       "  'fatigue',\n",
       "  'loss of interest'],\n",
       " 'MANIC_PHASE': ['sleep problem'],\n",
       " 'PERSISTENT_DEPRESSION': ['appetite changes'],\n",
       " 'MAJOR_DEPRESSION': ['sleep problem',\n",
       "  'aches and pains',\n",
       "  'fatigue',\n",
       "  'thoughts of self-harm',\n",
       "  'loss of interest']}"
      ]
     },
     "execution_count": 69,
     "metadata": {},
     "output_type": "execute_result"
    }
   ],
   "source": [
    "disorder_all_check"
   ]
  },
  {
   "cell_type": "code",
   "execution_count": 70,
   "metadata": {},
   "outputs": [],
   "source": [
    "#Add the length to the Last of each list\n",
    "for i in disorder_all_check:\n",
    "    disorder_all_check[i].append(len(disorder_all_check[i]))"
   ]
  },
  {
   "cell_type": "code",
   "execution_count": 71,
   "metadata": {},
   "outputs": [
    {
     "data": {
      "text/plain": [
       "{'TYPICAL_DEPRESSION': ['sleep problem', 'aches and pains', 'weight gain', 3],\n",
       " 'SITUATIONAL_DEPRESSION': ['sleep problem',\n",
       "  'aches and pains',\n",
       "  'fatigue',\n",
       "  'anxiety',\n",
       "  'appetite changes',\n",
       "  5],\n",
       " 'SEASONAL_DEPRESSION': ['sleep problem', 'fatigue', 'weight gain', 3],\n",
       " 'PMDD': ['sleep problem', 'aches and pains', 'anxiety', 3],\n",
       " 'PERINATAL_DEPRESSION': ['anxiety', 'thoughts of self-harm', 2],\n",
       " 'PSYCHOSIS_DEPRESSION': [0],\n",
       " 'DEPRESSIVE_EPISODES': ['sleep problem',\n",
       "  'aches and pains',\n",
       "  'fatigue',\n",
       "  'loss of interest',\n",
       "  4],\n",
       " 'MANIC_PHASE': ['sleep problem', 1],\n",
       " 'PERSISTENT_DEPRESSION': ['appetite changes', 1],\n",
       " 'MAJOR_DEPRESSION': ['sleep problem',\n",
       "  'aches and pains',\n",
       "  'fatigue',\n",
       "  'thoughts of self-harm',\n",
       "  'loss of interest',\n",
       "  5]}"
      ]
     },
     "execution_count": 71,
     "metadata": {},
     "output_type": "execute_result"
    }
   ],
   "source": [
    "disorder_all_check"
   ]
  },
  {
   "cell_type": "code",
   "execution_count": 72,
   "metadata": {},
   "outputs": [],
   "source": [
    "count_max = 0\n",
    "disorder_check = \"\"\n",
    "for i in disorder_all_check:\n",
    "    if count_max < disorder_all_check[i][-1]:\n",
    "        count_max = disorder_all_check[i][-1]\n",
    "        disorder_check = i"
   ]
  },
  {
   "cell_type": "code",
   "execution_count": 73,
   "metadata": {},
   "outputs": [
    {
     "data": {
      "text/plain": [
       "{'TYPICAL_DEPRESSION': ['sleep problem', 'aches and pains', 'weight gain', 3],\n",
       " 'SITUATIONAL_DEPRESSION': ['sleep problem',\n",
       "  'aches and pains',\n",
       "  'fatigue',\n",
       "  'anxiety',\n",
       "  'appetite changes',\n",
       "  5],\n",
       " 'SEASONAL_DEPRESSION': ['sleep problem', 'fatigue', 'weight gain', 3],\n",
       " 'PMDD': ['sleep problem', 'aches and pains', 'anxiety', 3],\n",
       " 'PERINATAL_DEPRESSION': ['anxiety', 'thoughts of self-harm', 2],\n",
       " 'PSYCHOSIS_DEPRESSION': [0],\n",
       " 'DEPRESSIVE_EPISODES': ['sleep problem',\n",
       "  'aches and pains',\n",
       "  'fatigue',\n",
       "  'loss of interest',\n",
       "  4],\n",
       " 'MANIC_PHASE': ['sleep problem', 1],\n",
       " 'PERSISTENT_DEPRESSION': ['appetite changes', 1],\n",
       " 'MAJOR_DEPRESSION': ['sleep problem',\n",
       "  'aches and pains',\n",
       "  'fatigue',\n",
       "  'thoughts of self-harm',\n",
       "  'loss of interest',\n",
       "  5]}"
      ]
     },
     "execution_count": 73,
     "metadata": {},
     "output_type": "execute_result"
    }
   ],
   "source": [
    "disorder_all_check"
   ]
  },
  {
   "cell_type": "code",
   "execution_count": 92,
   "metadata": {},
   "outputs": [
    {
     "name": "stdout",
     "output_type": "stream",
     "text": [
      "5   SITUATIONAL_DEPRESSION\n"
     ]
    }
   ],
   "source": [
    "print(count_max,\" \",disorder_check)"
   ]
  },
  {
   "cell_type": "code",
   "execution_count": 75,
   "metadata": {},
   "outputs": [
    {
     "data": {
      "text/plain": [
       "['sleep problem',\n",
       " 'aches and pains',\n",
       " 'fatigue',\n",
       " 'anxiety',\n",
       " 'appetite changes',\n",
       " 'weight gain',\n",
       " 'thoughts of self-harm',\n",
       " 'loss of interest']"
      ]
     },
     "execution_count": 75,
     "metadata": {},
     "output_type": "execute_result"
    }
   ],
   "source": [
    "symptoms_cover"
   ]
  },
  {
   "cell_type": "code",
   "execution_count": 76,
   "metadata": {},
   "outputs": [],
   "source": [
    "symptoms_cover_temp = []\n",
    "for i in disorder_all_check[disorder_check]:\n",
    "    symptoms_cover_temp.append(i)"
   ]
  },
  {
   "cell_type": "code",
   "execution_count": 77,
   "metadata": {},
   "outputs": [
    {
     "data": {
      "text/plain": [
       "['sleep problem', 'aches and pains', 'fatigue', 'anxiety', 'appetite changes']"
      ]
     },
     "execution_count": 77,
     "metadata": {},
     "output_type": "execute_result"
    }
   ],
   "source": [
    "#contains the symptoms of disorder\n",
    "symptoms_cover_temp = symptoms_cover_temp[:-1]\n",
    "symptoms_cover_temp"
   ]
  },
  {
   "cell_type": "code",
   "execution_count": 78,
   "metadata": {},
   "outputs": [
    {
     "name": "stdout",
     "output_type": "stream",
     "text": [
      "Do you have frequent crying ?\n",
      "no\n",
      "Do you have inability to concentrate ?\n",
      "yes\n"
     ]
    }
   ],
   "source": [
    "occurence = count_max\n",
    "for i in disorders[disorder_check]:\n",
    "    #print(i)\n",
    "    for j in objects:\n",
    "        if i == j.name and j.cover == False:\n",
    "            j.cover = True\n",
    "            print(\"Do you have \"+j.name+\" ?\")\n",
    "            x = input()\n",
    "            if x == \"yes\":\n",
    "                symptoms_cover.append(j.name)\n",
    "                symptoms_cover_temp.append(j.name)"
   ]
  },
  {
   "cell_type": "code",
   "execution_count": 79,
   "metadata": {},
   "outputs": [
    {
     "data": {
      "text/plain": [
       "['sleep problem',\n",
       " 'aches and pains',\n",
       " 'fatigue',\n",
       " 'anxiety',\n",
       " 'appetite changes',\n",
       " 'inability to concentrate']"
      ]
     },
     "execution_count": 79,
     "metadata": {},
     "output_type": "execute_result"
    }
   ],
   "source": [
    "symptoms_cover_temp"
   ]
  },
  {
   "cell_type": "code",
   "execution_count": 80,
   "metadata": {},
   "outputs": [
    {
     "data": {
      "text/plain": [
       "['sleep problem',\n",
       " 'aches and pains',\n",
       " 'fatigue',\n",
       " 'anxiety',\n",
       " 'appetite changes',\n",
       " 'weight gain',\n",
       " 'thoughts of self-harm',\n",
       " 'loss of interest',\n",
       " 'inability to concentrate']"
      ]
     },
     "execution_count": 80,
     "metadata": {},
     "output_type": "execute_result"
    }
   ],
   "source": [
    "symptoms_cover"
   ]
  },
  {
   "cell_type": "code",
   "execution_count": 85,
   "metadata": {},
   "outputs": [
    {
     "name": "stdout",
     "output_type": "stream",
     "text": [
      "No\n"
     ]
    }
   ],
   "source": [
    "flag = 0\n",
    "if len(symptoms_cover_temp) >= (0.75 * len(disorders[disorder_check])):\n",
    "    flag = 1\n",
    "    print(\"Yes\")\n",
    "else:\n",
    "    flag = 0\n",
    "    print(\"No\")"
   ]
  },
  {
   "cell_type": "code",
   "execution_count": 110,
   "metadata": {},
   "outputs": [
    {
     "data": {
      "text/plain": [
       "{'TYPICAL_DEPRESSION': ['sleep problem', 'aches and pains', 'weight gain', 3],\n",
       " 'SEASONAL_DEPRESSION': ['sleep problem', 'fatigue', 'weight gain', 3],\n",
       " 'PMDD': ['sleep problem', 'aches and pains', 'anxiety', 3],\n",
       " 'PERINATAL_DEPRESSION': ['anxiety', 'thoughts of self-harm', 2],\n",
       " 'PSYCHOSIS_DEPRESSION': [0],\n",
       " 'DEPRESSIVE_EPISODES': ['sleep problem',\n",
       "  'aches and pains',\n",
       "  'fatigue',\n",
       "  'loss of interest',\n",
       "  4],\n",
       " 'MANIC_PHASE': ['sleep problem', 1],\n",
       " 'PERSISTENT_DEPRESSION': ['appetite changes', 1],\n",
       " 'MAJOR_DEPRESSION': ['sleep problem',\n",
       "  'aches and pains',\n",
       "  'fatigue',\n",
       "  'thoughts of self-harm',\n",
       "  'loss of interest',\n",
       "  5]}"
      ]
     },
     "execution_count": 110,
     "metadata": {},
     "output_type": "execute_result"
    }
   ],
   "source": [
    "disorder_all_check"
   ]
  },
  {
   "cell_type": "code",
   "execution_count": 109,
   "metadata": {},
   "outputs": [
    {
     "data": {
      "text/plain": [
       "['sleep problem',\n",
       " 'aches and pains',\n",
       " 'fatigue',\n",
       " 'anxiety',\n",
       " 'appetite changes',\n",
       " 5]"
      ]
     },
     "execution_count": 109,
     "metadata": {},
     "output_type": "execute_result"
    }
   ],
   "source": [
    "disorder_all_check.pop(disorder_check)"
   ]
  },
  {
   "cell_type": "code",
   "execution_count": 113,
   "metadata": {},
   "outputs": [],
   "source": [
    "if flag == 0:\n",
    "    count_max = 0\n",
    "    disorder_check = \"\"\n",
    "    for i in disorder_all_check:\n",
    "        if count_max < disorder_all_check[i][-1]:\n",
    "            count_max = disorder_all_check[i][-1]\n",
    "            disorder_check = i"
   ]
  },
  {
   "cell_type": "code",
   "execution_count": 114,
   "metadata": {},
   "outputs": [
    {
     "name": "stdout",
     "output_type": "stream",
     "text": [
      "5   MAJOR_DEPRESSION\n"
     ]
    }
   ],
   "source": [
    "print(count_max,\" \",disorder_check)"
   ]
  },
  {
   "cell_type": "code",
   "execution_count": 115,
   "metadata": {},
   "outputs": [],
   "source": [
    "symptoms_cover_temp = []\n",
    "for i in disorder_all_check[disorder_check]:\n",
    "    symptoms_cover_temp.append(i)"
   ]
  },
  {
   "cell_type": "code",
   "execution_count": 116,
   "metadata": {},
   "outputs": [
    {
     "data": {
      "text/plain": [
       "['sleep problem',\n",
       " 'aches and pains',\n",
       " 'fatigue',\n",
       " 'thoughts of self-harm',\n",
       " 'loss of interest',\n",
       " 5]"
      ]
     },
     "execution_count": 116,
     "metadata": {},
     "output_type": "execute_result"
    }
   ],
   "source": [
    "symptoms_cover_temp"
   ]
  },
  {
   "cell_type": "code",
   "execution_count": 117,
   "metadata": {},
   "outputs": [
    {
     "data": {
      "text/plain": [
       "['sleep problem',\n",
       " 'aches and pains',\n",
       " 'fatigue',\n",
       " 'thoughts of self-harm',\n",
       " 'loss of interest']"
      ]
     },
     "execution_count": 117,
     "metadata": {},
     "output_type": "execute_result"
    }
   ],
   "source": [
    "#contains the symptoms of disorder\n",
    "symptoms_cover_temp = symptoms_cover_temp[:-1]\n",
    "symptoms_cover_temp"
   ]
  },
  {
   "cell_type": "code",
   "execution_count": 118,
   "metadata": {},
   "outputs": [
    {
     "name": "stdout",
     "output_type": "stream",
     "text": [
      "Do you have despondency ?\n",
      "yes\n",
      "Do you have gloom ?\n",
      "no\n",
      "Do you have grief ?\n",
      "yes\n",
      "Do you have loss of appetite ?\n",
      "yes\n",
      "Do you have overeating ?\n",
      "yes\n",
      "Do you have lack of concentration ?\n",
      "yes\n",
      "Do you have memory problems ?\n",
      "no\n",
      "Do you have inability to make decisions ?\n",
      "yes\n",
      "Do you have worthlessness ?\n",
      "yes\n",
      "Do you have constant worry and anxiety ?\n",
      "no\n"
     ]
    }
   ],
   "source": [
    "occurence = count_max\n",
    "for i in disorders[disorder_check]:\n",
    "    #print(i)\n",
    "    for j in objects:\n",
    "        if i == j.name and j.cover == False:\n",
    "            j.cover = True\n",
    "            print(\"Do you have \"+j.name+\" ?\")\n",
    "            x = input()\n",
    "            if x == \"yes\":\n",
    "                symptoms_cover.append(j.name)\n",
    "                symptoms_cover_temp.append(j.name)"
   ]
  },
  {
   "cell_type": "code",
   "execution_count": 123,
   "metadata": {},
   "outputs": [
    {
     "name": "stdout",
     "output_type": "stream",
     "text": [
      "Yes\n"
     ]
    }
   ],
   "source": [
    "import math\n",
    "flag = 0\n",
    "if len(symptoms_cover_temp) >= math.floor(0.75 * len(disorders[disorder_check])):\n",
    "    flag = 1\n",
    "    print(\"Yes\")\n",
    "else:\n",
    "    flag = 0\n",
    "    print(\"No\")"
   ]
  },
  {
   "cell_type": "code",
   "execution_count": 124,
   "metadata": {},
   "outputs": [
    {
     "data": {
      "text/plain": [
       "12"
      ]
     },
     "execution_count": 124,
     "metadata": {},
     "output_type": "execute_result"
    }
   ],
   "source": [
    "len(symptoms_cover_temp)"
   ]
  },
  {
   "cell_type": "code",
   "execution_count": 126,
   "metadata": {},
   "outputs": [
    {
     "data": {
      "text/plain": [
       "12"
      ]
     },
     "execution_count": 126,
     "metadata": {},
     "output_type": "execute_result"
    }
   ],
   "source": [
    "math.floor(0.75 * len(disorders[disorder_check]))"
   ]
  },
  {
   "cell_type": "code",
   "execution_count": 127,
   "metadata": {},
   "outputs": [
    {
     "data": {
      "text/plain": [
       "['sleep problem',\n",
       " 'aches and pains',\n",
       " 'fatigue',\n",
       " 'thoughts of self-harm',\n",
       " 'loss of interest',\n",
       " 'despondency',\n",
       " 'grief',\n",
       " 'loss of appetite',\n",
       " 'overeating',\n",
       " 'lack of concentration',\n",
       " 'inability to make decisions',\n",
       " 'worthlessness']"
      ]
     },
     "execution_count": 127,
     "metadata": {},
     "output_type": "execute_result"
    }
   ],
   "source": [
    "symptoms_cover_temp"
   ]
  },
  {
   "cell_type": "code",
   "execution_count": 128,
   "metadata": {},
   "outputs": [
    {
     "data": {
      "text/plain": [
       "['despondency',\n",
       " 'gloom',\n",
       " 'grief',\n",
       " 'sleep problem',\n",
       " 'lack of energy',\n",
       " 'fatigue',\n",
       " 'loss of appetite',\n",
       " 'overeating',\n",
       " 'aches and pains',\n",
       " 'loss of interest',\n",
       " 'lack of concentration',\n",
       " 'memory problems',\n",
       " 'inability to make decisions',\n",
       " 'worthlessness',\n",
       " 'hopelessness',\n",
       " 'constant worry and anxiety',\n",
       " 'thoughts of self-harm']"
      ]
     },
     "execution_count": 128,
     "metadata": {},
     "output_type": "execute_result"
    }
   ],
   "source": [
    "disorders[disorder_check]"
   ]
  },
  {
   "cell_type": "code",
   "execution_count": 131,
   "metadata": {},
   "outputs": [
    {
     "data": {
      "text/plain": [
       "16"
      ]
     },
     "execution_count": 131,
     "metadata": {},
     "output_type": "execute_result"
    }
   ],
   "source": [
    "len(symptoms_cover)"
   ]
  },
  {
   "cell_type": "code",
   "execution_count": null,
   "metadata": {},
   "outputs": [],
   "source": []
  }
 ],
 "metadata": {
  "kernelspec": {
   "display_name": "Python 3",
   "language": "python",
   "name": "python3"
  },
  "language_info": {
   "codemirror_mode": {
    "name": "ipython",
    "version": 3
   },
   "file_extension": ".py",
   "mimetype": "text/x-python",
   "name": "python",
   "nbconvert_exporter": "python",
   "pygments_lexer": "ipython3",
   "version": "3.7.3"
  }
 },
 "nbformat": 4,
 "nbformat_minor": 4
}
