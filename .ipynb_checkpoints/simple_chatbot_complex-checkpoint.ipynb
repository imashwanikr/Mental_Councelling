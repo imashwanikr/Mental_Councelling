{
 "cells": [
  {
   "cell_type": "code",
   "execution_count": 1,
   "metadata": {},
   "outputs": [],
   "source": [
    "class Node(object):\n",
    "    def __init__(self, name, weight = None):\n",
    "        self.name = name\n",
    "        #self.value = value\n",
    "        self.weight = weight\n",
    "        self.children = []        "
   ]
  },
  {
   "cell_type": "code",
   "execution_count": 2,
   "metadata": {},
   "outputs": [],
   "source": [
    "disorders = {'TYPICAL_DEPRESSION_' : [\"increased appetite and weight gain\",\"disordered eating\",\"poor body image\",\"sleeping much more than usual\",\"insomnia\",\"heaviness in your arms or legs that lasts an hour or more a day\",\"feelings of rejection and sensitivity to criticism\",\"assorted aches and pains\"]\n",
    "             ,'SITUATIONAL_DEPRESSION_':[\"frequent crying\",\"sadness and hopelessness\",\"anxiety\",\"appetite changes\",\"difficulty sleeping\",\"aches and pains\",\"lack of energy and fatigue\",\"inability to concentrate\",\"social withdrawal\"]\n",
    "             ,'SEASONAL_DEPRESSION_':[\"social withdrawal\",\"increased need for sleep\",\"weight gain\",\"fatigue\" ,\"daily feelings of sadness, hopelessness, or unworthiness\"]\n",
    "             ,'PMDD_':[\"cramps, bloating, and breast tenderness\",\"headaches\",\"joint and muscle pain\",\"sadness and despair\",\"irritability and anger\",\"extreme mood swings\",\"food cravings or binge eating\",\"panic attacks or anxiety\",\"lack of energy\",\"trouble focusing\",\"sleep problems\"]\n",
    "             ,'PERINATAL_DEPRESSION_':[\"sadness\",\"anxiety\",\"anger or rage\",\"exhaustion\",\"extreme worry about the baby‘s health and safety\",\"difficulty caring for yourself or the new baby\",\"thoughts of self-harm or harming the baby\" ]\n",
    "             ,'PSYCHOSIS_DEPRESSION_' : [\"physical symptoms\",\"including problems sitting still or slowed physical movements\",\"Hallucinations\" ]\n",
    "             ,'DEPRESSIVE_EPISODES_' : [\"feelings of sadness or emptiness\",\"lack of energy\",\"fatigue\",\"sleep problems\",\"trouble concentrating\",\"decreased activity\",\"loss of interest in formerly enjoyable activities\",\"suicidal thoughts\",\"unexplained headaches, stomach aches, or other aches and pains\" ]\n",
    "             ,'MANIC_PHASE_' : [\"high energy\",\"reduced sleep\",\"irritability\",\"racing thoughts and speech\",\"grandiose thinking\",\"increased self-esteem and confidence\",\"unusual, risky, and self-destructive behavior\",\"feeling elated, “high,” or euphoric\" ]\n",
    "             ,'PERSISTENT_DEPRESSION_' : [\"deep sadness or hopelessness\",\"low self-esteem or feelings of inadequacy\",\"lack of interest in things you once enjoyed\",\"appetite changes\",\"changes to sleep patterns or low energy\",\"concentration and memory problems\",\"difficulty functioning at school or work\",\"inability to feel joy, even at happy occasions\",\"social withdrawal\"]\n",
    "             ,'MAJOR_DEPRESSION_' : [\"despondency, gloom, or grief\",\"difficulty sleeping or sleeping too much\",\"lack of energy and fatigue\",\"loss of appetite or overeating\",\"unexplained aches and pains\",\"loss of interest in formerly pleasurable activities\",\"lack of concentration, memory problems, and inability to make decisions\",\"feelings of worthlessness or hopelessness\",\"constant worry and anxiety\",\"thoughts of death, self-harm, or suicide\" ] }"
   ]
  },
  {
   "cell_type": "code",
   "execution_count": 3,
   "metadata": {},
   "outputs": [],
   "source": [
    "imp_symptoms = {'TYPICAL_DEPRESSION_':[\"increased appetite and weight gain\",\"heaviness in your arms or legs that lasts an hour or more a day\",\"feelings of rejection and sensitivity to criticism\"],\n",
    "               'SITUATIONAL_DEPRESSION_':[\"frequent crying\",\"appetite changes\"],\n",
    "               'SEASONAL_DEPRESSION_':[\"weight gain\",\"fatigue\"],\n",
    "               'PMDD_':[\"cramps, bloating, and breast tenderness\",\"irritability and anger\",\"extreme mood swings\",\"panic attacks or anxiety\"],\n",
    "               'PERINATAL_DEPRESSION_':[\"extreme worry about the baby‘s health and safety\",\"thoughts of self-harm or harming the baby\"],\n",
    "               'PSYCHOSIS_DEPRESSION_':[\"Hallucinations\"],\n",
    "               'DEPRESSIVE_EPISODES_':[\"feelings of sadness or emptiness\",\"loss of interest in formerly enjoyable activities\",\"unexplained headaches, stomach aches, or other aches and pains\"],\n",
    "               'MANIC_PHASE_':[\"racing thoughts and speech\",\"unusual, risky, and self-destructive behavior\",\"feeling elated, “high,” or euphoric\"],\n",
    "               'PERSISTENT_DEPRESSION_':[\"low self-esteem or feelings of inadequacy\",\"inability to feel joy, even at happy occasions\",\"social withdrawal\"],\n",
    "               'MAJOR_DEPRESSION_':[\"despondency, gloom, or grief\",\"unexplained aches and pains\",\"feelings of worthlessness or hopelessness\",\"constant worry and anxiety\"]\n",
    "               }"
   ]
  },
  {
   "cell_type": "code",
   "execution_count": null,
   "metadata": {},
   "outputs": [],
   "source": []
  },
  {
   "cell_type": "code",
   "execution_count": null,
   "metadata": {},
   "outputs": [],
   "source": []
  },
  {
   "cell_type": "code",
   "execution_count": null,
   "metadata": {},
   "outputs": [],
   "source": []
  },
  {
   "cell_type": "code",
   "execution_count": null,
   "metadata": {},
   "outputs": [],
   "source": []
  },
  {
   "cell_type": "code",
   "execution_count": null,
   "metadata": {},
   "outputs": [],
   "source": []
  },
  {
   "cell_type": "code",
   "execution_count": null,
   "metadata": {},
   "outputs": [],
   "source": []
  },
  {
   "cell_type": "code",
   "execution_count": null,
   "metadata": {},
   "outputs": [],
   "source": []
  },
  {
   "cell_type": "code",
   "execution_count": null,
   "metadata": {},
   "outputs": [],
   "source": []
  },
  {
   "cell_type": "code",
   "execution_count": null,
   "metadata": {},
   "outputs": [],
   "source": []
  },
  {
   "cell_type": "code",
   "execution_count": null,
   "metadata": {},
   "outputs": [],
   "source": []
  },
  {
   "cell_type": "code",
   "execution_count": 4,
   "metadata": {},
   "outputs": [],
   "source": [
    "Sleep = Node(\"Sleep\")\n"
   ]
  },
  {
   "cell_type": "code",
   "execution_count": 5,
   "metadata": {},
   "outputs": [],
   "source": [
    "Suicidal_1 = Node(\"Suicidal\",\"less_sleep\")\n",
    "Weight = Node(\"Weight\",\"irregular\")\n",
    "Suicidal_2 = Node(\"Suicidal\",\"no_sleep\")\n",
    "SEASONAL_DEPRESSION = Node(\"SEASONAL_DEPRESSION\",\"more_sleep\")\n"
   ]
  },
  {
   "cell_type": "code",
   "execution_count": 6,
   "metadata": {},
   "outputs": [],
   "source": [
    "MANIC_PHASE = Node(\"MANIC_PHASE\",\"yes\")\n",
    "SITUATIONAL_DEPRESSION = Node(\"SITUATIONAL_DEPRESSION\",\"no\")\n"
   ]
  },
  {
   "cell_type": "code",
   "execution_count": 7,
   "metadata": {},
   "outputs": [],
   "source": [
    "PERINATAL_DEPRESSION = Node(\"PERINATAL_DEPRESSION\",\"yes\")\n",
    "hallucination = Node(\"hallucination\",\"no\")\n",
    "PSYCHOSIS_DEPRESSION = Node(\"PSYCHOSIS_DEPRESSION\",\"yes\")\n"
   ]
  },
  {
   "cell_type": "code",
   "execution_count": 8,
   "metadata": {},
   "outputs": [],
   "source": [
    "hopelessness = Node(\"hopelessness\",\"yes\")\n",
    "DEPRESSIVE_EPISODES = Node(\"DEPRESSIVE_EPISODES\",\"no\")\n"
   ]
  },
  {
   "cell_type": "code",
   "execution_count": 9,
   "metadata": {},
   "outputs": [],
   "source": [
    "TYPICAL_DEPRESSION = Node(\"TYPICAL_DEPRESSION\",\"no\")\n",
    "anxiety = Node(\"anxiety\",\"yes\")\n"
   ]
  },
  {
   "cell_type": "code",
   "execution_count": 10,
   "metadata": {},
   "outputs": [],
   "source": [
    "Trouble_focusing = Node(\"Trouble_focusing\",\"no\")\n",
    "PMDD = Node(\"PMDD\",\"yes\")\n"
   ]
  },
  {
   "cell_type": "code",
   "execution_count": 11,
   "metadata": {},
   "outputs": [],
   "source": [
    "loss_of_interest = Node(\"loss_of_interest\",\"yes\")\n"
   ]
  },
  {
   "cell_type": "code",
   "execution_count": 12,
   "metadata": {},
   "outputs": [],
   "source": [
    "fatigue = Node(\"fatigue\",\"yes\")\n"
   ]
  },
  {
   "cell_type": "code",
   "execution_count": 13,
   "metadata": {},
   "outputs": [],
   "source": [
    "social_withdrawl = Node(\"social_withdrawl\",\"no\")\n",
    "suicidal = Node(\"suicidal\",\"yes\")\n"
   ]
  },
  {
   "cell_type": "code",
   "execution_count": 14,
   "metadata": {},
   "outputs": [],
   "source": [
    "PERSISTENT_DEPRESSION = Node(\"PERSISTENT_DEPRESSION\",\"yes\")\n",
    "MAJOR_DEPRESSION = Node(\"MAJOR_DEPRESSION\",\"yes\")\n"
   ]
  },
  {
   "cell_type": "code",
   "execution_count": 15,
   "metadata": {},
   "outputs": [],
   "source": [
    "Sleep.children.append(Suicidal_1)\n",
    "Sleep.children.append(Weight)\n",
    "Sleep.children.append(Suicidal_2)\n",
    "Sleep.children.append(SEASONAL_DEPRESSION)\n"
   ]
  },
  {
   "cell_type": "code",
   "execution_count": 16,
   "metadata": {},
   "outputs": [],
   "source": [
    "Suicidal_1.children.append(MANIC_PHASE)\n",
    "Suicidal_1.children.append(SITUATIONAL_DEPRESSION)\n"
   ]
  },
  {
   "cell_type": "code",
   "execution_count": 17,
   "metadata": {},
   "outputs": [],
   "source": [
    "Weight.children.append(hopelessness)\n",
    "Weight.children.append(DEPRESSIVE_EPISODES)\n"
   ]
  },
  {
   "cell_type": "code",
   "execution_count": 18,
   "metadata": {},
   "outputs": [],
   "source": [
    "hopelessness.children.append(TYPICAL_DEPRESSION)\n",
    "hopelessness.children.append(anxiety)\n"
   ]
  },
  {
   "cell_type": "code",
   "execution_count": 19,
   "metadata": {},
   "outputs": [],
   "source": [
    "anxiety.children.append(Trouble_focusing)\n",
    "anxiety.children.append(PMDD)\n"
   ]
  },
  {
   "cell_type": "code",
   "execution_count": 20,
   "metadata": {},
   "outputs": [],
   "source": [
    "Trouble_focusing.children.append(loss_of_interest)\n"
   ]
  },
  {
   "cell_type": "code",
   "execution_count": 21,
   "metadata": {},
   "outputs": [],
   "source": [
    "loss_of_interest.children.append(fatigue)\n"
   ]
  },
  {
   "cell_type": "code",
   "execution_count": 22,
   "metadata": {},
   "outputs": [],
   "source": [
    "fatigue.children.append(social_withdrawl)\n",
    "fatigue.children.append(suicidal)\n"
   ]
  },
  {
   "cell_type": "code",
   "execution_count": 23,
   "metadata": {},
   "outputs": [],
   "source": [
    "social_withdrawl.children.append(PERSISTENT_DEPRESSION)\n"
   ]
  },
  {
   "cell_type": "code",
   "execution_count": 24,
   "metadata": {},
   "outputs": [],
   "source": [
    "suicidal.children.append(MAJOR_DEPRESSION)\n"
   ]
  },
  {
   "cell_type": "code",
   "execution_count": 25,
   "metadata": {},
   "outputs": [],
   "source": [
    "Suicidal_2.children.append(PERINATAL_DEPRESSION)\n",
    "Suicidal_2.children.append(hallucination)\n"
   ]
  },
  {
   "cell_type": "code",
   "execution_count": 26,
   "metadata": {},
   "outputs": [],
   "source": [
    "hallucination.children.append(PSYCHOSIS_DEPRESSION)\n"
   ]
  },
  {
   "cell_type": "code",
   "execution_count": 27,
   "metadata": {},
   "outputs": [
    {
     "name": "stdout",
     "output_type": "stream",
     "text": [
      "Weight\n"
     ]
    }
   ],
   "source": [
    "print(Sleep.children[1].name)\n",
    "    "
   ]
  },
  {
   "cell_type": "code",
   "execution_count": 28,
   "metadata": {},
   "outputs": [
    {
     "name": "stdout",
     "output_type": "stream",
     "text": [
      "Do you have Sleep Issues??Please Select from the options below\n",
      "less_sleep\n",
      "irregular\n",
      "no_sleep\n",
      "more_sleep\n",
      "less_sleep\n"
     ]
    }
   ],
   "source": [
    "print(\"Do you have Sleep Issues??Please Select from the options below\")\n",
    "for i in range(0,len(Sleep.children)):\n",
    "    print(Sleep.children[i].weight)\n",
    "answer = input()\n",
    "#print(answer)"
   ]
  },
  {
   "cell_type": "code",
   "execution_count": 29,
   "metadata": {},
   "outputs": [],
   "source": [
    "root = Sleep"
   ]
  },
  {
   "cell_type": "code",
   "execution_count": 30,
   "metadata": {},
   "outputs": [
    {
     "name": "stdout",
     "output_type": "stream",
     "text": [
      "Do you have Sleep ??Please Select from the options below\n",
      "less_sleep\n",
      "irregular\n",
      "no_sleep\n",
      "more_sleep\n",
      "less_sleep\n",
      "Do you have Suicidal ??Please Select from the options below\n",
      "yes\n",
      "no\n",
      "yes\n",
      "Please Enter yes or no\n",
      "high energy\n",
      "Noneno\n",
      "Please Enter yes or no\n",
      "reduced sleep\n",
      "Noneyes\n",
      "Please Enter yes or no\n",
      "irritability\n",
      "Noneyes\n",
      "Please Enter yes or no\n",
      "racing thoughts and speech\n",
      "Noneno \n",
      "Please Enter yes or no\n",
      "grandiose thinking\n",
      "Noneyes\n",
      "Please Enter yes or no\n",
      "increased self-esteem and confidence\n",
      "Noneyes\n",
      "Please Enter yes or no\n",
      "unusual, risky, and self-destructive behavior\n",
      "Noneno\n",
      "Please Enter yes or no\n",
      "feeling elated, “high,” or euphoric\n",
      "Noneyes\n"
     ]
    }
   ],
   "source": [
    "while(len(root.children)!=0):\n",
    "    k=0\n",
    "    print(\"Do you have \"+root.name+\" ??Please Select from the options below\")\n",
    "    for i in range(0,len(root.children)):\n",
    "        print(root.children[i].weight)\n",
    "    answer = input()\n",
    "    for i in range(0,len(root.children)):\n",
    "        if root.children[i].weight == answer:\n",
    "            k=i\n",
    "    root = root.children[k]\n",
    "#print(\"You have \"+ root.name + \" .\")\n",
    "answer = str(root.name)+\"_\"\n",
    "#print(answer)\n",
    "symptoms = []\n",
    "print(\"Please Enter yes or no\")\n",
    "for i in (disorders[str(answer)]):\n",
    "    temp = input(print(i))\n",
    "    if temp == \"yes\":\n",
    "        symptoms.append(i)"
   ]
  },
  {
   "cell_type": "code",
   "execution_count": 31,
   "metadata": {},
   "outputs": [
    {
     "name": "stdout",
     "output_type": "stream",
     "text": [
      "You have MANIC_PHASE\n"
     ]
    }
   ],
   "source": [
    "# 30% from the original Symptoms \n",
    "if len(symptoms)>(.3 * len(disorders[str(answer)])):\n",
    "    print(\"You have \"+ root.name)\n",
    "else:\n",
    "    print(\"It's just your Thinking\")"
   ]
  },
  {
   "cell_type": "code",
   "execution_count": 32,
   "metadata": {},
   "outputs": [
    {
     "name": "stdout",
     "output_type": "stream",
     "text": [
      "You have MANIC_PHASE\n"
     ]
    }
   ],
   "source": [
    "if len(symptoms)>=1:\n",
    "    print(\"You have \"+ root.name)\n",
    "else:\n",
    "    print(\"It's just your Thinking\")"
   ]
  },
  {
   "cell_type": "code",
   "execution_count": 33,
   "metadata": {},
   "outputs": [
    {
     "name": "stdout",
     "output_type": "stream",
     "text": [
      "It's just your Thinking\n"
     ]
    }
   ],
   "source": [
    "check = all(item in symptoms for item in imp_symptoms[answer])\n",
    "if check is True:\n",
    "    print(\"You have \"+ root.name)\n",
    "else:\n",
    "    print(\"It's just your Thinking\")"
   ]
  },
  {
   "cell_type": "code",
   "execution_count": 34,
   "metadata": {},
   "outputs": [
    {
     "data": {
      "text/plain": [
       "['racing thoughts and speech',\n",
       " 'unusual, risky, and self-destructive behavior',\n",
       " 'feeling elated, “high,” or euphoric']"
      ]
     },
     "execution_count": 34,
     "metadata": {},
     "output_type": "execute_result"
    }
   ],
   "source": [
    "imp_symptoms[answer]"
   ]
  },
  {
   "cell_type": "code",
   "execution_count": 35,
   "metadata": {},
   "outputs": [
    {
     "data": {
      "text/plain": [
       "['reduced sleep',\n",
       " 'irritability',\n",
       " 'grandiose thinking',\n",
       " 'increased self-esteem and confidence',\n",
       " 'feeling elated, “high,” or euphoric']"
      ]
     },
     "execution_count": 35,
     "metadata": {},
     "output_type": "execute_result"
    }
   ],
   "source": [
    "symptoms"
   ]
  },
  {
   "cell_type": "code",
   "execution_count": 37,
   "metadata": {},
   "outputs": [
    {
     "name": "stdout",
     "output_type": "stream",
     "text": [
      "high energysaca\n",
      "reduced sleepac\n",
      "irritabilityaca\n",
      "racing thoughts and speechca\n",
      "grandiose thinkingcas\n",
      "increased self-esteem and confidencecas\n",
      "unusual, risky, and self-destructive behaviorc\n",
      "feeling elated, “high,” or euphoricac\n"
     ]
    }
   ],
   "source": [
    "for i in (disorders[str(answer)]):\n",
    "    temp = input(i)\n",
    "    if temp == \"yes\":\n",
    "        symptoms.append(i)"
   ]
  },
  {
   "cell_type": "code",
   "execution_count": null,
   "metadata": {},
   "outputs": [],
   "source": []
  },
  {
   "cell_type": "code",
   "execution_count": null,
   "metadata": {},
   "outputs": [],
   "source": []
  }
 ],
 "metadata": {
  "kernelspec": {
   "display_name": "Python 3",
   "language": "python",
   "name": "python3"
  },
  "language_info": {
   "codemirror_mode": {
    "name": "ipython",
    "version": 3
   },
   "file_extension": ".py",
   "mimetype": "text/x-python",
   "name": "python",
   "nbconvert_exporter": "python",
   "pygments_lexer": "ipython3",
   "version": "3.7.3"
  }
 },
 "nbformat": 4,
 "nbformat_minor": 4
}
