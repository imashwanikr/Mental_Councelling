{
 "cells": [
  {
   "cell_type": "code",
   "execution_count": 72,
   "metadata": {},
   "outputs": [],
   "source": [
    "class Node(object):\n",
    "    def __init__(self, name, weight = None):\n",
    "        self.name = name\n",
    "        #self.value = value\n",
    "        self.weight = weight\n",
    "        self.children = []        "
   ]
  },
  {
   "cell_type": "code",
   "execution_count": 73,
   "metadata": {},
   "outputs": [],
   "source": [
    "disorders = {'TYPICAL_DEPRESSION_' : [\"increased appetite and weight gain\",\"disordered eating\",\"poor body image\",\"sleeping much more than usual\",\"insomnia\",\"heaviness in your arms or legs that lasts an hour or more a day\",\"feelings of rejection and sensitivity to criticism\",\"assorted aches and pains\"]\n",
    "             ,'SITUATIONAL_DEPRESSION_':[\"frequent crying\",\"sadness and hopelessness\",\"anxiety\",\"appetite changes\",\"difficulty sleeping\",\"aches and pains\",\"lack of energy and fatigue\",\"inability to concentrate\",\"social withdrawal\"]\n",
    "             ,'SEASONAL_DEPRESSION_':[\"social withdrawal\",\"increased need for sleep\",\"weight gain\",\"fatigue\" ,\"daily feelings of sadness, hopelessness, or unworthiness\"]\n",
    "             ,'PMDD_':[\"cramps, bloating, and breast tenderness\",\"headaches\",\"joint and muscle pain\",\"sadness and despair\",\"irritability and anger\",\"extreme mood swings\",\"food cravings or binge eating\",\"panic attacks or anxiety\",\"lack of energy\",\"trouble focusing\",\"sleep problems\"]\n",
    "             ,'PERINATAL_DEPRESSION_':[\"sadness\",\"anxiety\",\"anger or rage\",\"exhaustion\",\"extreme worry about the baby‘s health and safety\",\"difficulty caring for yourself or the new baby\",\"thoughts of self-harm or harming the baby\" ]\n",
    "             ,'PSYCHOSIS_DEPRESSION_' : [\"physical symptoms\",\"including problems sitting still or slowed physical movements\",\"Hallucinations\" ]\n",
    "             ,'DEPRESSIVE_EPISODES_' : [\"feelings of sadness or emptiness\",\"lack of energy\",\"fatigue\",\"sleep problems\",\"trouble concentrating\",\"decreased activity\",\"loss of interest in formerly enjoyable activities\",\"suicidal thoughts\",\"unexplained headaches, stomach aches, or other aches and pains\" ]\n",
    "             ,'MANIC_PHASE_' : [\"high energy\",\"reduced sleep\",\"irritability\",\"racing thoughts and speech\",\"grandiose thinking\",\"increased self-esteem and confidence\",\"unusual, risky, and self-destructive behavior\",\"feeling elated, “high,” or euphoric\" ]\n",
    "             ,'PERSISTENT_DEPRESSION_' : [\"deep sadness or hopelessness\",\"low self-esteem or feelings of inadequacy\",\"lack of interest in things you once enjoyed\",\"appetite changes\",\"changes to sleep patterns or low energy\",\"concentration and memory problems\",\"difficulty functioning at school or work\",\"inability to feel joy, even at happy occasions\",\"social withdrawal\"]\n",
    "             ,'MAJOR_DEPRESSION_' : [\"despondency, gloom, or grief\",\"difficulty sleeping or sleeping too much\",\"lack of energy and fatigue\",\"loss of appetite or overeating\",\"unexplained aches and pains\",\"loss of interest in formerly pleasurable activities\",\"lack of concentration, memory problems, and inability to make decisions\",\"feelings of worthlessness or hopelessness\",\"constant worry and anxiety\",\"thoughts of death, self-harm, or suicide\" ] }"
   ]
  },
  {
   "cell_type": "code",
   "execution_count": 74,
   "metadata": {},
   "outputs": [],
   "source": [
    "imp_symptoms = {'TYPICAL_DEPRESSION_':[\"increased appetite and weight gain\",\"heaviness in your arms or legs that lasts an hour or more a day\",\"feelings of rejection and sensitivity to criticism\"],\n",
    "               'SITUATIONAL_DEPRESSION_':[\"frequent crying\",\"appetite changes\"],\n",
    "               'SEASONAL_DEPRESSION_':[\"weight gain\",\"fatigue\"],\n",
    "               'PMDD_':[\"cramps, bloating, and breast tenderness\",\"irritability and anger\",\"extreme mood swings\",\"panic attacks or anxiety\"],\n",
    "               'PERINATAL_DEPRESSION_':[\"extreme worry about the baby‘s health and safety\",\"thoughts of self-harm or harming the baby\"],\n",
    "               'PSYCHOSIS_DEPRESSION_':[\"Hallucinations\"],\n",
    "               'DEPRESSIVE_EPISODES_':[\"feelings of sadness or emptiness\",\"loss of interest in formerly enjoyable activities\",\"unexplained headaches, stomach aches, or other aches and pains\"],\n",
    "               'MANIC_PHASE_':[\"racing thoughts and speech\",\"unusual, risky, and self-destructive behavior\",\"feeling elated, “high,” or euphoric\"],\n",
    "               'PERSISTENT_DEPRESSION_':[\"low self-esteem or feelings of inadequacy\",\"inability to feel joy, even at happy occasions\",\"social withdrawal\"],\n",
    "               'MAJOR_DEPRESSION_':[\"despondency, gloom, or grief\",\"unexplained aches and pains\",\"feelings of worthlessness or hopelessness\",\"constant worry and anxiety\"]\n",
    "               }"
   ]
  },
  {
   "cell_type": "code",
   "execution_count": 62,
   "metadata": {},
   "outputs": [],
   "source": [
    "symptoms_all_old = []\n",
    "symptoms_all = []\n",
    "for i in disorders:\n",
    "    for j in disorders[i]:\n",
    "        symptoms_all_old.append(j)\n",
    "symptoms_all = set(symptoms_all_old)        "
   ]
  },
  {
   "cell_type": "code",
   "execution_count": 67,
   "metadata": {},
   "outputs": [],
   "source": [
    "from nltk.corpus import wordnet as wn"
   ]
  },
  {
   "cell_type": "code",
   "execution_count": 68,
   "metadata": {},
   "outputs": [],
   "source": [
    "nouns = {x.name().split('.', 1)[0] for x in wn.all_synsets('n')}"
   ]
  },
  {
   "cell_type": "code",
   "execution_count": 71,
   "metadata": {},
   "outputs": [
    {
     "name": "stdout",
     "output_type": "stream",
     "text": [
      "exhaustion\n",
      "insomnia\n",
      "irritability\n",
      "fatigue\n",
      "sadness\n",
      "anxiety\n"
     ]
    },
    {
     "data": {
      "text/plain": [
       "6"
      ]
     },
     "execution_count": 71,
     "metadata": {},
     "output_type": "execute_result"
    }
   ],
   "source": [
    "count_temp = 0\n",
    "for i in symptoms_all:\n",
    "    if i in nouns:\n",
    "        print(i)\n",
    "        count_temp+=1\n",
    "count_temp"
   ]
  },
  {
   "cell_type": "code",
   "execution_count": null,
   "metadata": {},
   "outputs": [],
   "source": [
    "def form_question(intent):\n",
    "    "
   ]
  },
  {
   "cell_type": "code",
   "execution_count": 65,
   "metadata": {},
   "outputs": [
    {
     "data": {
      "text/plain": [
       "{'Hallucinations',\n",
       " 'aches and pains',\n",
       " 'anger or rage',\n",
       " 'anxiety',\n",
       " 'appetite changes',\n",
       " 'assorted aches and pains',\n",
       " 'changes to sleep patterns or low energy',\n",
       " 'concentration and memory problems',\n",
       " 'constant worry and anxiety',\n",
       " 'cramps, bloating, and breast tenderness',\n",
       " 'daily feelings of sadness, hopelessness, or unworthiness',\n",
       " 'decreased activity',\n",
       " 'deep sadness or hopelessness',\n",
       " 'despondency, gloom, or grief',\n",
       " 'difficulty caring for yourself or the new baby',\n",
       " 'difficulty functioning at school or work',\n",
       " 'difficulty sleeping',\n",
       " 'difficulty sleeping or sleeping too much',\n",
       " 'disordered eating',\n",
       " 'exhaustion',\n",
       " 'extreme mood swings',\n",
       " 'extreme worry about the baby‘s health and safety',\n",
       " 'fatigue',\n",
       " 'feeling elated, “high,” or euphoric',\n",
       " 'feelings of rejection and sensitivity to criticism',\n",
       " 'feelings of sadness or emptiness',\n",
       " 'feelings of worthlessness or hopelessness',\n",
       " 'food cravings or binge eating',\n",
       " 'frequent crying',\n",
       " 'grandiose thinking',\n",
       " 'headaches',\n",
       " 'heaviness in your arms or legs that lasts an hour or more a day',\n",
       " 'high energy',\n",
       " 'inability to concentrate',\n",
       " 'inability to feel joy, even at happy occasions',\n",
       " 'including problems sitting still or slowed physical movements',\n",
       " 'increased appetite and weight gain',\n",
       " 'increased need for sleep',\n",
       " 'increased self-esteem and confidence',\n",
       " 'insomnia',\n",
       " 'irritability',\n",
       " 'irritability and anger',\n",
       " 'joint and muscle pain',\n",
       " 'lack of concentration, memory problems, and inability to make decisions',\n",
       " 'lack of energy',\n",
       " 'lack of energy and fatigue',\n",
       " 'lack of interest in things you once enjoyed',\n",
       " 'loss of appetite or overeating',\n",
       " 'loss of interest in formerly enjoyable activities',\n",
       " 'loss of interest in formerly pleasurable activities',\n",
       " 'low self-esteem or feelings of inadequacy',\n",
       " 'panic attacks or anxiety',\n",
       " 'physical symptoms',\n",
       " 'poor body image',\n",
       " 'racing thoughts and speech',\n",
       " 'reduced sleep',\n",
       " 'sadness',\n",
       " 'sadness and despair',\n",
       " 'sadness and hopelessness',\n",
       " 'sleep problems',\n",
       " 'sleeping much more than usual',\n",
       " 'social withdrawal',\n",
       " 'suicidal thoughts',\n",
       " 'thoughts of death, self-harm, or suicide',\n",
       " 'thoughts of self-harm or harming the baby',\n",
       " 'trouble concentrating',\n",
       " 'trouble focusing',\n",
       " 'unexplained aches and pains',\n",
       " 'unexplained headaches, stomach aches, or other aches and pains',\n",
       " 'unusual, risky, and self-destructive behavior',\n",
       " 'weight gain'}"
      ]
     },
     "execution_count": 65,
     "metadata": {},
     "output_type": "execute_result"
    }
   ],
   "source": [
    "symptoms_all"
   ]
  },
  {
   "cell_type": "code",
   "execution_count": null,
   "metadata": {},
   "outputs": [],
   "source": []
  },
  {
   "cell_type": "code",
   "execution_count": null,
   "metadata": {},
   "outputs": [],
   "source": []
  },
  {
   "cell_type": "code",
   "execution_count": null,
   "metadata": {},
   "outputs": [],
   "source": []
  },
  {
   "cell_type": "code",
   "execution_count": null,
   "metadata": {},
   "outputs": [],
   "source": []
  },
  {
   "cell_type": "code",
   "execution_count": null,
   "metadata": {},
   "outputs": [],
   "source": []
  },
  {
   "cell_type": "code",
   "execution_count": null,
   "metadata": {},
   "outputs": [],
   "source": []
  },
  {
   "cell_type": "code",
   "execution_count": null,
   "metadata": {},
   "outputs": [],
   "source": []
  },
  {
   "cell_type": "code",
   "execution_count": 108,
   "metadata": {},
   "outputs": [],
   "source": [
    "Sleep = Node(\"Sleep problem\")\n"
   ]
  },
  {
   "cell_type": "code",
   "execution_count": 114,
   "metadata": {},
   "outputs": [],
   "source": [
    "Suicidal_1 = Node(\"Suicidal thoughts\",\"less_sleep\")\n",
    "Weight = Node(\"Weight Problem\",\"irregular\")\n",
    "Suicidal_2 = Node(\"Suicidal thoughts\",\"no_sleep\")\n",
    "SEASONAL_DEPRESSION = Node(\"SEASONAL_DEPRESSION\",\"more_sleep\")\n"
   ]
  },
  {
   "cell_type": "code",
   "execution_count": 115,
   "metadata": {},
   "outputs": [],
   "source": [
    "MANIC_PHASE = Node(\"MANIC_PHASE\",\"yes\")\n",
    "SITUATIONAL_DEPRESSION = Node(\"SITUATIONAL_DEPRESSION\",\"no\")\n"
   ]
  },
  {
   "cell_type": "code",
   "execution_count": 116,
   "metadata": {},
   "outputs": [],
   "source": [
    "PERINATAL_DEPRESSION = Node(\"PERINATAL_DEPRESSION\",\"yes\")\n",
    "hallucination = Node(\"hallucination\",\"no\")\n",
    "PSYCHOSIS_DEPRESSION = Node(\"PSYCHOSIS_DEPRESSION\",\"yes\")\n"
   ]
  },
  {
   "cell_type": "code",
   "execution_count": 117,
   "metadata": {},
   "outputs": [],
   "source": [
    "hopelessness = Node(\"hopelessness\",\"yes\")\n",
    "DEPRESSIVE_EPISODES = Node(\"DEPRESSIVE_EPISODES\",\"no\")\n"
   ]
  },
  {
   "cell_type": "code",
   "execution_count": 118,
   "metadata": {},
   "outputs": [],
   "source": [
    "TYPICAL_DEPRESSION = Node(\"TYPICAL_DEPRESSION\",\"no\")\n",
    "anxiety = Node(\"anxiety\",\"yes\")\n"
   ]
  },
  {
   "cell_type": "code",
   "execution_count": 119,
   "metadata": {},
   "outputs": [],
   "source": [
    "#Trouble_focusing = Node(\"Trouble_focusing\",\"no\")\n",
    "PMDD = Node(\"PMDD\",\"yes\")\n"
   ]
  },
  {
   "cell_type": "code",
   "execution_count": 120,
   "metadata": {},
   "outputs": [],
   "source": [
    "#loss_of_interest = Node(\"loss_of_interest\",\"yes\")\n"
   ]
  },
  {
   "cell_type": "code",
   "execution_count": 121,
   "metadata": {},
   "outputs": [],
   "source": [
    "fatigue = Node(\"fatigue\",\"no\")\n"
   ]
  },
  {
   "cell_type": "code",
   "execution_count": 122,
   "metadata": {},
   "outputs": [],
   "source": [
    "social_withdrawl = Node(\"social_withdrawl\",\"no\")\n",
    "suicidal = Node(\"suicidal\",\"yes\")\n"
   ]
  },
  {
   "cell_type": "code",
   "execution_count": 123,
   "metadata": {},
   "outputs": [],
   "source": [
    "PERSISTENT_DEPRESSION = Node(\"PERSISTENT_DEPRESSION\",\"yes\")\n",
    "MAJOR_DEPRESSION = Node(\"MAJOR_DEPRESSION\",\"yes\")\n"
   ]
  },
  {
   "cell_type": "code",
   "execution_count": 124,
   "metadata": {},
   "outputs": [],
   "source": [
    "Sleep.children.append(Suicidal_1)\n",
    "Sleep.children.append(Weight)\n",
    "Sleep.children.append(Suicidal_2)\n",
    "Sleep.children.append(SEASONAL_DEPRESSION)\n"
   ]
  },
  {
   "cell_type": "code",
   "execution_count": 125,
   "metadata": {},
   "outputs": [],
   "source": [
    "Suicidal_1.children.append(MANIC_PHASE)\n",
    "Suicidal_1.children.append(SITUATIONAL_DEPRESSION)\n"
   ]
  },
  {
   "cell_type": "code",
   "execution_count": 126,
   "metadata": {},
   "outputs": [],
   "source": [
    "Weight.children.append(hopelessness)\n",
    "Weight.children.append(DEPRESSIVE_EPISODES)\n"
   ]
  },
  {
   "cell_type": "code",
   "execution_count": 127,
   "metadata": {},
   "outputs": [],
   "source": [
    "hopelessness.children.append(TYPICAL_DEPRESSION)\n",
    "hopelessness.children.append(anxiety)\n"
   ]
  },
  {
   "cell_type": "code",
   "execution_count": 128,
   "metadata": {},
   "outputs": [],
   "source": [
    "anxiety.children.append(fatigue)\n",
    "anxiety.children.append(PMDD)\n"
   ]
  },
  {
   "cell_type": "code",
   "execution_count": 129,
   "metadata": {},
   "outputs": [],
   "source": [
    "fatigue.children.append(social_withdrawl)\n",
    "fatigue.children.append(suicidal)\n"
   ]
  },
  {
   "cell_type": "code",
   "execution_count": 130,
   "metadata": {},
   "outputs": [],
   "source": [
    "social_withdrawl.children.append(PERSISTENT_DEPRESSION)\n"
   ]
  },
  {
   "cell_type": "code",
   "execution_count": 131,
   "metadata": {},
   "outputs": [],
   "source": [
    "suicidal.children.append(MAJOR_DEPRESSION)\n"
   ]
  },
  {
   "cell_type": "code",
   "execution_count": 132,
   "metadata": {},
   "outputs": [],
   "source": [
    "Suicidal_2.children.append(PERINATAL_DEPRESSION)\n",
    "Suicidal_2.children.append(hallucination)\n"
   ]
  },
  {
   "cell_type": "code",
   "execution_count": 133,
   "metadata": {},
   "outputs": [],
   "source": [
    "hallucination.children.append(PSYCHOSIS_DEPRESSION)\n"
   ]
  },
  {
   "cell_type": "code",
   "execution_count": 134,
   "metadata": {},
   "outputs": [
    {
     "name": "stdout",
     "output_type": "stream",
     "text": [
      "Weight Problem\n"
     ]
    }
   ],
   "source": [
    "print(Sleep.children[1].name)\n",
    "    "
   ]
  },
  {
   "cell_type": "code",
   "execution_count": 97,
   "metadata": {},
   "outputs": [
    {
     "name": "stdout",
     "output_type": "stream",
     "text": [
      "Do you have Sleep Issues??Please Select from the options below\n",
      "less_sleep\n",
      "irregular\n",
      "no_sleep\n",
      "more_sleep\n",
      "less_sleep\n"
     ]
    }
   ],
   "source": [
    "print(\"Do you have Sleep Issues??Please Select from the options below\")\n",
    "for i in range(0,len(Sleep.children)):\n",
    "    print(Sleep.children[i].weight)\n",
    "answer = input()\n",
    "#print(answer)"
   ]
  },
  {
   "cell_type": "code",
   "execution_count": 147,
   "metadata": {},
   "outputs": [],
   "source": [
    "root = Sleep"
   ]
  },
  {
   "cell_type": "code",
   "execution_count": 148,
   "metadata": {},
   "outputs": [
    {
     "name": "stdout",
     "output_type": "stream",
     "text": [
      "Do you have Sleep problem ??Please Select from the options below\n",
      "less_sleep\n",
      "irregular\n",
      "no_sleep\n",
      "more_sleep\n",
      "irregular\n",
      "Do you have Weight Problem ??Please Select from the options below\n",
      "yes\n",
      "no\n",
      "yes\n",
      "Do you have hopelessness ??Please Select from the options below\n",
      "no\n",
      "yes\n",
      "no\n",
      "Please Enter yes or no\n",
      "Do you have increased appetite and weight gain?\n",
      "yes\n",
      "Do you have disordered eating?\n",
      "no\n",
      "Do you have poor body image?\n",
      "no\n",
      "Do you have sleeping much more than usual?\n",
      "yes\n",
      "Do you have insomnia?\n",
      "no\n",
      "Do you have heaviness in your arms or legs that lasts an hour or more a day?\n",
      "yes\n",
      "Do you have feelings of rejection and sensitivity to criticism?\n",
      "no\n",
      "Do you have assorted aches and pains?\n",
      "yes\n"
     ]
    }
   ],
   "source": [
    "while(len(root.children)!=0):\n",
    "    k=0\n",
    "    print(\"Do you have \"+root.name+\" ??Please Select from the options below\")\n",
    "    for i in range(0,len(root.children)):\n",
    "        print(root.children[i].weight)\n",
    "    answer = input()\n",
    "    for i in range(0,len(root.children)):\n",
    "        if root.children[i].weight == answer:\n",
    "            k=i\n",
    "    root = root.children[k]\n",
    "#print(\"You have \"+ root.name + \" .\")\n",
    "answer = str(root.name)+\"_\"\n",
    "#print(answer)\n",
    "symptoms = []\n",
    "print(\"Please Enter yes or no\")\n",
    "for i in (disorders[str(answer)]):\n",
    "    print(\"Do you have \"+ i + \"?\")\n",
    "    temp = input()\n",
    "    if temp == \"yes\":\n",
    "        symptoms.append(i)"
   ]
  },
  {
   "cell_type": "code",
   "execution_count": 149,
   "metadata": {},
   "outputs": [
    {
     "name": "stdout",
     "output_type": "stream",
     "text": [
      "You have TYPICAL_DEPRESSION\n"
     ]
    }
   ],
   "source": [
    "# 30% from the original Symptoms \n",
    "if len(symptoms)>(.3 * len(disorders[str(answer)])):\n",
    "    print(\"You have \"+ root.name)\n",
    "else:\n",
    "    print(\"It's just your Thinking\")"
   ]
  },
  {
   "cell_type": "code",
   "execution_count": 150,
   "metadata": {},
   "outputs": [
    {
     "name": "stdout",
     "output_type": "stream",
     "text": [
      "You have TYPICAL_DEPRESSION\n"
     ]
    }
   ],
   "source": [
    "if len(symptoms)>=1:\n",
    "    print(\"You have \"+ root.name)\n",
    "else:\n",
    "    print(\"It's just your Thinking\")"
   ]
  },
  {
   "cell_type": "code",
   "execution_count": 151,
   "metadata": {},
   "outputs": [
    {
     "name": "stdout",
     "output_type": "stream",
     "text": [
      "It's just your Thinking\n"
     ]
    }
   ],
   "source": [
    "check = all(item in symptoms for item in imp_symptoms[answer])\n",
    "if check is True:\n",
    "    print(\"You have \"+ root.name)\n",
    "else:\n",
    "    print(\"It's just your Thinking\")"
   ]
  },
  {
   "cell_type": "code",
   "execution_count": 152,
   "metadata": {},
   "outputs": [
    {
     "data": {
      "text/plain": [
       "['increased appetite and weight gain',\n",
       " 'heaviness in your arms or legs that lasts an hour or more a day',\n",
       " 'feelings of rejection and sensitivity to criticism']"
      ]
     },
     "execution_count": 152,
     "metadata": {},
     "output_type": "execute_result"
    }
   ],
   "source": [
    "imp_symptoms[answer]"
   ]
  },
  {
   "cell_type": "code",
   "execution_count": 153,
   "metadata": {},
   "outputs": [
    {
     "data": {
      "text/plain": [
       "['increased appetite and weight gain',\n",
       " 'sleeping much more than usual',\n",
       " 'heaviness in your arms or legs that lasts an hour or more a day',\n",
       " 'assorted aches and pains']"
      ]
     },
     "execution_count": 153,
     "metadata": {},
     "output_type": "execute_result"
    }
   ],
   "source": [
    "symptoms"
   ]
  },
  {
   "cell_type": "code",
   "execution_count": 154,
   "metadata": {},
   "outputs": [],
   "source": [
    "import math\n",
    "count = math.floor(len(imp_symptoms[answer])* 0.75)"
   ]
  },
  {
   "cell_type": "code",
   "execution_count": 165,
   "metadata": {},
   "outputs": [
    {
     "name": "stdout",
     "output_type": "stream",
     "text": [
      "yes You have typical depression disorder\n"
     ]
    }
   ],
   "source": [
    "#print(root.name.split('_')[0].lower())\n",
    "if(len((set(imp_symptoms[answer]) & set(symptoms)))>= count):\n",
    "    print(\"yes, You have \" + root.name.split('_')[0].lower()+ \" \"+root.name.split('_')[1].lower() + \" disorder\")\n",
    "else:\n",
    "    print(\"no\")"
   ]
  },
  {
   "cell_type": "code",
   "execution_count": 166,
   "metadata": {},
   "outputs": [
    {
     "data": {
      "text/plain": [
       "{'heaviness in your arms or legs that lasts an hour or more a day',\n",
       " 'increased appetite and weight gain'}"
      ]
     },
     "execution_count": 166,
     "metadata": {},
     "output_type": "execute_result"
    }
   ],
   "source": [
    "set(imp_symptoms[answer]) & set(symptoms)"
   ]
  },
  {
   "cell_type": "code",
   "execution_count": 167,
   "metadata": {},
   "outputs": [
    {
     "data": {
      "text/plain": [
       "2"
      ]
     },
     "execution_count": 167,
     "metadata": {},
     "output_type": "execute_result"
    }
   ],
   "source": [
    "count"
   ]
  },
  {
   "cell_type": "code",
   "execution_count": 168,
   "metadata": {},
   "outputs": [
    {
     "data": {
      "text/plain": [
       "3"
      ]
     },
     "execution_count": 168,
     "metadata": {},
     "output_type": "execute_result"
    }
   ],
   "source": [
    "len(imp_symptoms[answer])"
   ]
  },
  {
   "cell_type": "code",
   "execution_count": null,
   "metadata": {},
   "outputs": [],
   "source": []
  }
 ],
 "metadata": {
  "kernelspec": {
   "display_name": "Python 3",
   "language": "python",
   "name": "python3"
  },
  "language_info": {
   "codemirror_mode": {
    "name": "ipython",
    "version": 3
   },
   "file_extension": ".py",
   "mimetype": "text/x-python",
   "name": "python",
   "nbconvert_exporter": "python",
   "pygments_lexer": "ipython3",
   "version": "3.7.3"
  }
 },
 "nbformat": 4,
 "nbformat_minor": 4
}
